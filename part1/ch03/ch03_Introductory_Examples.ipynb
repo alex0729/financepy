{
 "metadata": {
  "name": "",
  "signature": "sha256:1914ea73fb1694ebc6281dc0f483a28eef2965b06925e23e6e97e7efe8b46a0f"
 },
 "nbformat": 3,
 "nbformat_minor": 0,
 "worksheets": [
  {
   "cells": [
    {
     "cell_type": "heading",
     "level": 1,
     "metadata": {},
     "source": [
      "Chapter3. Introductory Examples"
     ]
    },
    {
     "cell_type": "markdown",
     "metadata": {},
     "source": [
      "* Implied volatilities\n",
      "* Monte Carlo simulation\n",
      "* Technical analysis"
     ]
    },
    {
     "cell_type": "heading",
     "level": 2,
     "metadata": {},
     "source": [
      "Implied Volatilities"
     ]
    },
    {
     "cell_type": "markdown",
     "metadata": {},
     "source": [
      "Option quotes for certain maturity dates are taken to back out the implied volatilities of these options and to plot them - a task option traders and risk managers, among others, are faced with on a daily basis."
     ]
    },
    {
     "cell_type": "markdown",
     "metadata": {},
     "source": [
      "* option pricing formula - Black-Scholes-Merton formula\n",
      "* implied volatilities - the volatility is not an input parameter for the model/formula, but the result of a (numerical) optimization procedure given that formula\n",
      "* Eurex - http://www.eurexchange.com/exchange-en/\n",
      "* VSTOXX volatility index - http://www.eurexchange.com/advanced-services/"
     ]
    },
    {
     "cell_type": "markdown",
     "metadata": {},
     "source": [
      "<img src='figures/eq3-1.png' />"
     ]
    },
    {
     "cell_type": "markdown",
     "metadata": {},
     "source": [
      "<img src='figures/eq3-1-means.png' />"
     ]
    },
    {
     "cell_type": "markdown",
     "metadata": {},
     "source": [
      "<img src='figures/eq3-2.png' />"
     ]
    },
    {
     "cell_type": "markdown",
     "metadata": {},
     "source": [
      "<img src='figures/eq3-3.png' />"
     ]
    },
    {
     "cell_type": "code",
     "collapsed": false,
     "input": [
      "def bsm_call_value(S0, K, T, r, sigma) :\n",
      "    from math import log, sqrt, exp"
     ],
     "language": "python",
     "metadata": {},
     "outputs": []
    },
    {
     "cell_type": "markdown",
     "metadata": {},
     "source": [
      "<img src='figures/eq3-4.png' />"
     ]
    },
    {
     "cell_type": "markdown",
     "metadata": {},
     "source": [
      "<img src='figures/eq3-5.png' />"
     ]
    },
    {
     "cell_type": "markdown",
     "metadata": {},
     "source": [
      "<img src='figures/eq3-6.png' />"
     ]
    },
    {
     "cell_type": "markdown",
     "metadata": {},
     "source": [
      "<img src='figures/eq3-7.png' />"
     ]
    },
    {
     "cell_type": "markdown",
     "metadata": {},
     "source": [
      "<img src='figures/eq3-8.png' />"
     ]
    },
    {
     "cell_type": "markdown",
     "metadata": {},
     "source": [
      "<img src='figures/eg_vec.png' />"
     ]
    },
    {
     "cell_type": "heading",
     "level": 2,
     "metadata": {},
     "source": [
      "Monte Carlo simulation"
     ]
    },
    {
     "cell_type": "markdown",
     "metadata": {},
     "source": [
      "The evolution of a stock index over time is simulated via Monte Calo techniques, selected results are visualized, and European option values are calcuated. Monte Carlo simulation is a cornerston for numerical option pricing as well as for risk management efforts involving value-at-risk calculations or credit value adjustments."
     ]
    },
    {
     "cell_type": "heading",
     "level": 2,
     "metadata": {},
     "source": [
      "Technical analysis"
     ]
    },
    {
     "cell_type": "markdown",
     "metadata": {},
     "source": [
      "An analysis of historical time series data is implemented to backtest an investment strategy based on trend signals; both professional investors and ambitious amateurs regularly engage in this kind of investment analysis."
     ]
    }
   ],
   "metadata": {}
  }
 ]
}