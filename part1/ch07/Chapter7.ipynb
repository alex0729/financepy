{
 "metadata": {
  "name": "",
  "signature": "sha256:8a52c560d74fa7ff5efbdf46c3c551a6b7ccfc0da800226844f97c3833766465"
 },
 "nbformat": 3,
 "nbformat_minor": 0,
 "worksheets": [
  {
   "cells": [
    {
     "cell_type": "heading",
     "level": 1,
     "metadata": {},
     "source": [
      "Basic I/O with Python"
     ]
    },
    {
     "cell_type": "code",
     "collapsed": false,
     "input": [
      "import numpy as np\n",
      "from random import gauss\n",
      "import pickle"
     ],
     "language": "python",
     "metadata": {},
     "outputs": [],
     "prompt_number": 2
    },
    {
     "cell_type": "code",
     "collapsed": false,
     "input": [
      "data_loc = './flash'\n",
      "a = [gauss(1.5,2) for i in xrange(1000000)]\n",
      "data_write = open(data_loc,'w')"
     ],
     "language": "python",
     "metadata": {},
     "outputs": [],
     "prompt_number": 60
    },
    {
     "cell_type": "code",
     "collapsed": false,
     "input": [
      "%time pickle.dump(a, data_write)"
     ],
     "language": "python",
     "metadata": {},
     "outputs": [
      {
       "output_type": "stream",
       "stream": "stdout",
       "text": [
        "Wall time: 3.72 s\n"
       ]
      }
     ],
     "prompt_number": 61
    },
    {
     "cell_type": "code",
     "collapsed": false,
     "input": [
      "data_write"
     ],
     "language": "python",
     "metadata": {},
     "outputs": [
      {
       "metadata": {},
       "output_type": "pyout",
       "prompt_number": 62,
       "text": [
        "<open file './flash', mode 'w' at 0x000000000454BAE0>"
       ]
      }
     ],
     "prompt_number": 62
    },
    {
     "cell_type": "code",
     "collapsed": false,
     "input": [
      "data_write.close()"
     ],
     "language": "python",
     "metadata": {},
     "outputs": [],
     "prompt_number": 63
    },
    {
     "cell_type": "code",
     "collapsed": false,
     "input": [
      "data_read = open(data_loc,'r')\n",
      "%time b = pickle.load(data_read)"
     ],
     "language": "python",
     "metadata": {},
     "outputs": [
      {
       "output_type": "stream",
       "stream": "stdout",
       "text": [
        "Wall time: 3.13 s\n"
       ]
      }
     ],
     "prompt_number": 64
    },
    {
     "cell_type": "code",
     "collapsed": false,
     "input": [
      "b[:5]"
     ],
     "language": "python",
     "metadata": {},
     "outputs": [
      {
       "metadata": {},
       "output_type": "pyout",
       "prompt_number": 65,
       "text": [
        "[0.1431000686668149,\n",
        " -1.6520004534309072,\n",
        " 1.3516563172612326,\n",
        " 0.26074571223022325,\n",
        " 0.6641070135557717]"
       ]
      }
     ],
     "prompt_number": 65
    },
    {
     "cell_type": "code",
     "collapsed": false,
     "input": [
      "a == b"
     ],
     "language": "python",
     "metadata": {},
     "outputs": [
      {
       "metadata": {},
       "output_type": "pyout",
       "prompt_number": 66,
       "text": [
        "True"
       ]
      }
     ],
     "prompt_number": 66
    },
    {
     "cell_type": "code",
     "collapsed": false,
     "input": [
      "np.allclose(np.array(a), np.array(b)) # allclose can takes a tolerance level, which by default is set to 1e-5 (0.00001)"
     ],
     "language": "python",
     "metadata": {},
     "outputs": [
      {
       "metadata": {},
       "output_type": "pyout",
       "prompt_number": 71,
       "text": [
        "True"
       ]
      }
     ],
     "prompt_number": 71
    },
    {
     "cell_type": "code",
     "collapsed": false,
     "input": [
      "np.sum(np.array(a) - np.array(b))"
     ],
     "language": "python",
     "metadata": {},
     "outputs": [
      {
       "metadata": {},
       "output_type": "pyout",
       "prompt_number": 72,
       "text": [
        "0.0"
       ]
      }
     ],
     "prompt_number": 72
    },
    {
     "cell_type": "code",
     "collapsed": false,
     "input": [
      "import copy\n",
      "c = copy.copy(b)\n",
      "c[0] = c[0]+0.000001"
     ],
     "language": "python",
     "metadata": {},
     "outputs": [],
     "prompt_number": 74
    },
    {
     "cell_type": "code",
     "collapsed": false,
     "input": [
      "np.sum(np.array(a) - np.array(c))"
     ],
     "language": "python",
     "metadata": {},
     "outputs": [
      {
       "metadata": {},
       "output_type": "pyout",
       "prompt_number": 75,
       "text": [
        "-1.0000000000010001e-06"
       ]
      }
     ],
     "prompt_number": 75
    },
    {
     "cell_type": "code",
     "collapsed": false,
     "input": [
      "np.allclose(np.array(a), np.array(c))"
     ],
     "language": "python",
     "metadata": {},
     "outputs": [
      {
       "metadata": {},
       "output_type": "pyout",
       "prompt_number": 76,
       "text": [
        "True"
       ]
      }
     ],
     "prompt_number": 76
    },
    {
     "cell_type": "code",
     "collapsed": false,
     "input": [
      "np.allclose(np.array(a), np.array(c), 0.0000001)"
     ],
     "language": "python",
     "metadata": {},
     "outputs": [
      {
       "metadata": {},
       "output_type": "pyout",
       "prompt_number": 78,
       "text": [
        "False"
       ]
      }
     ],
     "prompt_number": 78
    },
    {
     "cell_type": "heading",
     "level": 1,
     "metadata": {},
     "source": [
      "Reading and writing text files(csv)"
     ]
    },
    {
     "cell_type": "code",
     "collapsed": false,
     "input": [
      "# handle csv files - https://docs.python.org/2/library/csv.html\n",
      "import csv\n",
      "csvpath = 'C:/temp/'\n",
      "\n",
      "with open(csvpath+'my.csv','w') as f:\n",
      "    writer = csv.writer(f)\n",
      "    writer.writerow(['YYYYMMDD','no1','no2','no3','no4','no5'])\n",
      "    writer.writerow(['20150101',  '1',  '2',  '3',  '4',  '5'])\n",
      "    writer.writerow(['20150102',  '6',  '7',  '8',  '9',  '0'])\n",
      "\n",
      "\n",
      "with open(csvpath+'my.csv','r') as f:\n",
      "    for r in f:\n",
      "        print r,\n",
      "\n",
      "print '-'*80\n",
      "\n",
      "with open(csvpath+'my.csv','r') as f:\n",
      "    reader = csv.reader(f)\n",
      "    for row in reader:\n",
      "        for col in row:\n",
      "            print col+'\\t',\n",
      "        print ''"
     ],
     "language": "python",
     "metadata": {},
     "outputs": [
      {
       "output_type": "stream",
       "stream": "stdout",
       "text": [
        "YYYYMMDD,no1,no2,no3,no4,no5\r\n",
        "20150101,1,2,3,4,5\r\n",
        "20150102,6,7,8,9,0\r\n",
        "--------------------------------------------------------------------------------\n",
        "YYYYMMDD\tno1\tno2\tno3\tno4\tno5\t\n",
        "20150101\t1\t2\t3\t4\t5\t\n",
        "20150102\t6\t7\t8\t9\t0\t\n"
       ]
      }
     ],
     "prompt_number": 96
    },
    {
     "cell_type": "heading",
     "level": 1,
     "metadata": {},
     "source": [
      "SQL Databases ( python dbapi )"
     ]
    },
    {
     "cell_type": "code",
     "collapsed": false,
     "input": [
      "# codes in book are non-standard! \n",
      "import sqlite3 as sq3\n",
      "import datetime as dt\n",
      "import numpy as np\n",
      "conn = sq3.connect(':memory:') # sq3.connect(path + 'numbs.db')\n",
      "cursor = conn.cursor()\n",
      "cursor.execute('CREATE TABLE numbs (Date date, No1 real, No2 real)')\n",
      "cursor.executemany('INSERT INTO numbs VALUES(?,?,?)', [(dt.datetime.now(), 0.12, 0.98),(dt.datetime.now(), 0.12, 0.98)])\n",
      "moredata = np.random.standard_normal((1000,2)).round(5)\n",
      "for data in moredata:\n",
      "    cursor.execute('INSERT INTO numbs VALUES(?,?,?)', (dt.datetime.now(),data[0],data[1]) )\n",
      "conn.commit()\n",
      "q = 'SELECT * FROM numbs'\n",
      "cursor.execute(q)\n",
      "ret = cursor.fetchmany(10)\n",
      "for r in ret:\n",
      "    for c in r:\n",
      "        print c,\n",
      "    print ''\n",
      "conn.close()"
     ],
     "language": "python",
     "metadata": {},
     "outputs": [
      {
       "output_type": "stream",
       "stream": "stdout",
       "text": [
        "2015-05-12 21:47:46.513000 0.12 0.98 \n",
        "2015-05-12 21:47:46.513000 0.12 0.98 \n",
        "2015-05-12 21:47:46.513000 -1.87572 -0.65027 \n",
        "2015-05-12 21:47:46.513000 0.58041 1.48946 \n",
        "2015-05-12 21:47:46.513000 -0.15622 0.682 \n",
        "2015-05-12 21:47:46.513000 -1.49859 -0.46669 \n",
        "2015-05-12 21:47:46.513000 0.78678 -0.63233 \n",
        "2015-05-12 21:47:46.513000 -0.89111 0.16537 \n",
        "2015-05-12 21:47:46.514000 -1.14497 -1.09582 \n",
        "2015-05-12 21:47:46.514000 -0.43046 0.78908 \n"
       ]
      }
     ],
     "prompt_number": 27
    },
    {
     "cell_type": "heading",
     "level": 1,
     "metadata": {},
     "source": [
      "Writing and Reading NumPy Arrays"
     ]
    },
    {
     "cell_type": "code",
     "collapsed": false,
     "input": [
      "# Do we really need writing to and reading from disk with numpy?\n",
      "# better to use it as convienent way to store numpy data to database\n",
      "import numpy as np\n",
      "dtimes = np.arange('2015-01-01 10:00:00', '2021-12-31 23:00:00', dtype='datetime64[h]')\n",
      "dty = np.dtype([('Date','datetime64[s]'), ('No1','f'), ('No2','f')])\n",
      "data = np.zeros(len(dtimes), dtype=dty)\n",
      "data['Date'] = dtimes\n",
      "anp = np.random.standard_normal((len(dtimes), 2)).round(5)\n",
      "data['No1'] = anp[:,0]\n",
      "data['No2'] = anp[:,1]\n",
      "%time np.save('./nparray1', data)"
     ],
     "language": "python",
     "metadata": {},
     "outputs": [
      {
       "output_type": "stream",
       "stream": "stdout",
       "text": [
        "Wall time: 2 ms\n"
       ]
      }
     ],
     "prompt_number": 37
    },
    {
     "cell_type": "code",
     "collapsed": false,
     "input": [
      "%time np.load('./nparray1.npy') # Be careful for extension \".npy\""
     ],
     "language": "python",
     "metadata": {},
     "outputs": [
      {
       "output_type": "stream",
       "stream": "stdout",
       "text": [
        "Wall time: 301 ms\n"
       ]
      },
      {
       "metadata": {},
       "output_type": "pyout",
       "prompt_number": 40,
       "text": [
        "array([ (datetime.datetime(2015, 1, 1, 1, 0), -0.8040599822998047, 0.1800300031900406),\n",
        "       (datetime.datetime(2015, 1, 1, 2, 0), -0.6375100016593933, -0.6532599925994873),\n",
        "       (datetime.datetime(2015, 1, 1, 3, 0), 0.7215999960899353, -1.5386600494384766),\n",
        "       ...,\n",
        "       (datetime.datetime(2021, 12, 31, 11, 0), 1.202679991722107, 0.8597699999809265),\n",
        "       (datetime.datetime(2021, 12, 31, 12, 0), -0.20419000089168549, 2.046260118484497),\n",
        "       (datetime.datetime(2021, 12, 31, 13, 0), -0.772819995880127, -1.8664499521255493)], \n",
        "      dtype=[('Date', '<M8[s]'), ('No1', '<f4'), ('No2', '<f4')])"
       ]
      }
     ],
     "prompt_number": 40
    },
    {
     "cell_type": "code",
     "collapsed": false,
     "input": [
      "import sqlite3 as sq3\n",
      "conn = sq3.connect(':memory:') # sq3.connect(path + 'numbs.db')\n",
      "cursor = conn.cursor()\n",
      "cursor.execute('CREATE TABLE numbs (Date date, No1 real, No2 real)')\n",
      "#for r in data:\n",
      "    #cursor.execute('INSERT INTO numbs VALUES(?,?,?)', r)\n",
      "cursor.executemany('INSERT INTO numbs VALUES(?,?,?)', data.tolist())\n",
      "conn.commit()\n",
      "q = 'SELECT count(*) FROM numbs'\n",
      "cursor.execute(q)\n",
      "ret = cursor.fetchone()\n",
      "print len(data),\"rows in numpy inserted into numbs table\", ret[0]\n",
      "conn.close()"
     ],
     "language": "python",
     "metadata": {},
     "outputs": [
      {
       "output_type": "stream",
       "stream": "stdout",
       "text": [
        "61357 rows in numpy inserted into numbs table 61357\n"
       ]
      }
     ],
     "prompt_number": 68
    },
    {
     "cell_type": "heading",
     "level": 1,
     "metadata": {},
     "source": [
      "I/O with pandas"
     ]
    },
    {
     "cell_type": "code",
     "collapsed": false,
     "input": [
      "# read/write data from csv, SQL, Excel, json, HTML\n",
      "import numpy as np\n",
      "import pandas as pd\n",
      "\n",
      "# insert data into sqlite3 db\n",
      "data = np.random.standard_normal((1000000, 5)).round(5)\n",
      "import sqlite3 as sq3\n",
      "conn = sq3.Connection(':memory:')\n",
      "cursor = conn.cursor()\n",
      "cursor.execute('CREATE TABLE numbers (No1 real, No2 real,No3 real, No4 real, No5 real)')\n",
      "cursor.executemany('INSERT INTO numbers VALUES(?,?,?,?,?)', data)\n",
      "conn.commit()\n",
      "cursor.execute('SELECT * FROM numbers')\n",
      "cursor.fetchall()[:2]"
     ],
     "language": "python",
     "metadata": {},
     "outputs": [
      {
       "metadata": {},
       "output_type": "pyout",
       "prompt_number": 2,
       "text": [
        "[(1.03098, -0.37609, -0.00389, -0.81061, -0.1393),\n",
        " (0.64562, -0.37378, 1.01697, -1.99917, -0.7509)]"
       ]
      }
     ],
     "prompt_number": 2
    },
    {
     "cell_type": "heading",
     "level": 3,
     "metadata": {},
     "source": [
      "Numpy"
     ]
    },
    {
     "cell_type": "code",
     "collapsed": false,
     "input": [
      "# read & write into numpy ndarray \n",
      "q = 'SELECT * FROM numbers where no1 > 0 and No2 < 0'\n",
      "cursor.execute(q)\n",
      "%time res = np.array(cursor.fetchall()).round(3)\n",
      "res = res[::100]\n",
      "import matplotlib.pyplot as plt\n",
      "%matplotlib inline\n",
      "plt.plot(res[:,0], res[:,1], 'ro')\n",
      "plt.grid(True); plt.xlim(-0.5,4.5); plt.ylim(-4.5,0.5)"
     ],
     "language": "python",
     "metadata": {},
     "outputs": [
      {
       "output_type": "stream",
       "stream": "stdout",
       "text": [
        "Wall time: 760 ms\n"
       ]
      },
      {
       "metadata": {},
       "output_type": "pyout",
       "prompt_number": 14,
       "text": [
        "(-4.5, 0.5)"
       ]
      },
      {
       "metadata": {},
       "output_type": "display_data",
       "png": "[encoded data removed]",
       "text": [
        "<matplotlib.figure.Figure at 0xa941978>"
       ]
      }
     ],
     "prompt_number": 14
    },
    {
     "cell_type": "heading",
     "level": 3,
     "metadata": {},
     "source": [
      "SQL"
     ]
    },
    {
     "cell_type": "code",
     "collapsed": false,
     "input": [
      "import pandas.io.sql as pds\n",
      "%time data = pds.read_sql('SELECT * FROM numbers', conn)\n",
      "print data.head()\n",
      "\n",
      "%time data[(data['No1'] > 0) & (data['No2'] < 0)].head()\n"
     ],
     "language": "python",
     "metadata": {},
     "outputs": [
      {
       "output_type": "stream",
       "stream": "stdout",
       "text": [
        "Wall time: 1.93 s\n",
        "       No1      No2      No3      No4      No5\n",
        "0  1.03098 -0.37609 -0.00389 -0.81061 -0.13930\n",
        "1  0.64562 -0.37378  1.01697 -1.99917 -0.75090\n",
        "2 -0.83722  0.71984  1.15178  0.21692 -1.60903\n",
        "3  1.01554 -0.69155  0.95806 -0.43436  1.33946\n",
        "4 -1.08278  2.30191 -0.53548 -0.04191  0.24480\n",
        "Wall time: 22 ms\n"
       ]
      },
      {
       "html": [
        "<div style=\"max-height:1000px;max-width:1500px;overflow:auto;\">\n",
        "<table border=\"1\" class=\"dataframe\">\n",
        "  <thead>\n",
        "    <tr style=\"text-align: right;\">\n",
        "      <th></th>\n",
        "      <th>No1</th>\n",
        "      <th>No2</th>\n",
        "      <th>No3</th>\n",
        "      <th>No4</th>\n",
        "      <th>No5</th>\n",
        "    </tr>\n",
        "  </thead>\n",
        "  <tbody>\n",
        "    <tr>\n",
        "      <th>0</th>\n",
        "      <td> 1.03098</td>\n",
        "      <td>-0.37609</td>\n",
        "      <td>-0.00389</td>\n",
        "      <td>-0.81061</td>\n",
        "      <td>-0.13930</td>\n",
        "    </tr>\n",
        "    <tr>\n",
        "      <th>1</th>\n",
        "      <td> 0.64562</td>\n",
        "      <td>-0.37378</td>\n",
        "      <td> 1.01697</td>\n",
        "      <td>-1.99917</td>\n",
        "      <td>-0.75090</td>\n",
        "    </tr>\n",
        "    <tr>\n",
        "      <th>3</th>\n",
        "      <td> 1.01554</td>\n",
        "      <td>-0.69155</td>\n",
        "      <td> 0.95806</td>\n",
        "      <td>-0.43436</td>\n",
        "      <td> 1.33946</td>\n",
        "    </tr>\n",
        "    <tr>\n",
        "      <th>5</th>\n",
        "      <td> 0.12027</td>\n",
        "      <td>-0.30012</td>\n",
        "      <td> 0.13045</td>\n",
        "      <td>-1.95529</td>\n",
        "      <td>-1.01681</td>\n",
        "    </tr>\n",
        "    <tr>\n",
        "      <th>6</th>\n",
        "      <td> 0.81249</td>\n",
        "      <td>-0.67586</td>\n",
        "      <td>-0.52977</td>\n",
        "      <td> 1.89692</td>\n",
        "      <td> 1.42702</td>\n",
        "    </tr>\n",
        "  </tbody>\n",
        "</table>\n",
        "</div>"
       ],
       "metadata": {},
       "output_type": "pyout",
       "prompt_number": 9,
       "text": [
        "       No1      No2      No3      No4      No5\n",
        "0  1.03098 -0.37609 -0.00389 -0.81061 -0.13930\n",
        "1  0.64562 -0.37378  1.01697 -1.99917 -0.75090\n",
        "3  1.01554 -0.69155  0.95806 -0.43436  1.33946\n",
        "5  0.12027 -0.30012  0.13045 -1.95529 -1.01681\n",
        "6  0.81249 -0.67586 -0.52977  1.89692  1.42702"
       ]
      }
     ],
     "prompt_number": 9
    },
    {
     "cell_type": "code",
     "collapsed": false,
     "input": [
      "%%time\n",
      "res = data[['No1', 'No2']][((data['No1'] > 0.5) | (data['No1'] < -0.5))\n",
      "& ((data['No2'] < -1) | (data['No2'] > 1))]\n",
      "plt.plot(res.No1, res.No2, 'ro')\n",
      "plt.grid(True); plt.axis('tight')"
     ],
     "language": "python",
     "metadata": {},
     "outputs": [
      {
       "output_type": "stream",
       "stream": "stdout",
       "text": [
        "Wall time: 115 ms\n"
       ]
      },
      {
       "metadata": {},
       "output_type": "display_data",
       "png": "[encoded data removed]",
       "text": [
        "<matplotlib.figure.Figure at 0x161b42b0>"
       ]
      }
     ],
     "prompt_number": 11
    },
    {
     "cell_type": "heading",
     "level": 3,
     "metadata": {},
     "source": [
      "CSV"
     ]
    },
    {
     "cell_type": "code",
     "collapsed": false,
     "input": [
      "import pandas as pd\n",
      "#%time data.to_csv('pandas.csv')\n",
      "%time pandas_csv = pd.read_csv('pandas.csv')\n",
      "pandas_csv[['No1','No2','No3','No4']].hist(bins=20)"
     ],
     "language": "python",
     "metadata": {},
     "outputs": [
      {
       "output_type": "stream",
       "stream": "stdout",
       "text": [
        "Wall time: 1.09 s\n"
       ]
      },
      {
       "metadata": {},
       "output_type": "pyout",
       "prompt_number": 18,
       "text": [
        "array([[<matplotlib.axes._subplots.AxesSubplot object at 0x0000000018C9D898>,\n",
        "        <matplotlib.axes._subplots.AxesSubplot object at 0x000000001555FDD8>],\n",
        "       [<matplotlib.axes._subplots.AxesSubplot object at 0x000000001FC0AB70>,\n",
        "        <matplotlib.axes._subplots.AxesSubplot object at 0x000000001FCBDB38>]], dtype=object)"
       ]
      },
      {
       "metadata": {},
       "output_type": "display_data",
       "png": "[encoded data removed]",
       "text": [
        "<matplotlib.figure.Figure at 0x1ac10da0>"
       ]
      }
     ],
     "prompt_number": 18
    },
    {
     "cell_type": "heading",
     "level": 3,
     "metadata": {},
     "source": [
      "Excel"
     ]
    },
    {
     "cell_type": "code",
     "collapsed": false,
     "input": [
      "import pandas as pd\n",
      "%time data[:1000000].to_excel('pandas.xlsx')\n",
      "%time pd.read_excel('pandas.xlsx','Sheet1').cumsum().plot()"
     ],
     "language": "python",
     "metadata": {},
     "outputs": [
      {
       "output_type": "stream",
       "stream": "stdout",
       "text": [
        "Wall time: 4min 53s\n",
        "Wall time: 1min 46s"
       ]
      },
      {
       "output_type": "stream",
       "stream": "stdout",
       "text": [
        "\n"
       ]
      },
      {
       "metadata": {},
       "output_type": "pyout",
       "prompt_number": 19,
       "text": [
        "<matplotlib.axes._subplots.AxesSubplot at 0x1471b748>"
       ]
      },
      {
       "metadata": {},
       "output_type": "display_data",
       "png": "[encoded data removed]",
       "text": [
        "<matplotlib.figure.Figure at 0x17b61f60>"
       ]
      }
     ],
     "prompt_number": 19
    },
    {
     "cell_type": "heading",
     "level": 1,
     "metadata": {},
     "source": [
      "Fast I/O with PyTables"
     ]
    },
    {
     "cell_type": "code",
     "collapsed": false,
     "input": [
      "# PyTables - python binding for HDF5 - Hierarchical Data Format\n",
      "# HDF5\ub294 SQL Database\ub97c \ub300\uccb4\ud558\uc9c4 \uc54a\uc74c\n",
      "# \uc720\uc6a9\ud55c \uae30\ub2a5\uc744 \uc81c\uacf5 - \ub2e4\uc218\uc758 \ud14c\uc774\ube14 \uc800\uc7a5, \uc555\ucd95, \uc778\ub371\uc2f1 \uadf8\ub9ac\uace0 \ubcf5\uc7a1\ud55c \ucffc\ub9ac \uc2e4\ud589\n",
      "# Numpy array\uc640 compatible!\n",
      "# \ub3c5\uc790\uc801\uc778 array-like \uc790\ub8cc\ud615\n",
      "# Out-of-memory operation is also possible\n",
      "import numpy as np\n",
      "import tables as tb\n",
      "import datetime as dt\n",
      "import matplotlib.pyplot as plt\n",
      "%matplotlib inline\n",
      "filename = 'pytables.h5'\n",
      "h5 = tb.open_file(filename,'w')\n",
      "rows = 2000000\n",
      "row_des = {'Date': tb.StringCol(26,pos=1), 'No1':tb.IntCol(pos=2), 'No2':tb.IntCol(pos=3), \n",
      "           'No3':tb.Float64Col(pos=4), 'No4':tb.Float64Col(pos=5) }\n",
      "filters = tb.Filters(complevel=9) # from 0 ~ 9\n",
      "tab = h5.create_table('/','int_floats', row_des, title = 'Int&floats', expectedrows=rows, filters=filters)\n"
     ],
     "language": "python",
     "metadata": {},
     "outputs": [],
     "prompt_number": 26
    },
    {
     "cell_type": "code",
     "collapsed": false,
     "input": [
      "tab"
     ],
     "language": "python",
     "metadata": {},
     "outputs": [
      {
       "metadata": {},
       "output_type": "pyout",
       "prompt_number": 27,
       "text": [
        "/int_floats (Table(0,), shuffle, zlib(9)) 'Int&floats'\n",
        "  description := {\n",
        "  \"Date\": StringCol(itemsize=26, shape=(), dflt='', pos=0),\n",
        "  \"No1\": Int32Col(shape=(), dflt=0, pos=1),\n",
        "  \"No2\": Int32Col(shape=(), dflt=0, pos=2),\n",
        "  \"No3\": Float64Col(shape=(), dflt=0.0, pos=3),\n",
        "  \"No4\": Float64Col(shape=(), dflt=0.0, pos=4)}\n",
        "  byteorder := 'little'\n",
        "  chunkshape := (2621,)"
       ]
      }
     ],
     "prompt_number": 27
    },
    {
     "cell_type": "code",
     "collapsed": false,
     "input": [
      "pointer = tab.row\n",
      "ran_int = np.random.randint(0, 10000, size=(rows, 2))\n",
      "ran_flo = np.random.standard_normal((rows, 2)).round(5)"
     ],
     "language": "python",
     "metadata": {},
     "outputs": [],
     "prompt_number": 29
    },
    {
     "cell_type": "code",
     "collapsed": false,
     "input": [
      "%%time\n",
      "for i in xrange(rows):\n",
      "    pointer['Date'] = dt.datetime.now()\n",
      "    pointer['No1'] = ran_int[i, 0]\n",
      "    pointer['No2'] = ran_int[i, 1]\n",
      "    pointer['No3'] = ran_flo[i, 0]\n",
      "    pointer['No4'] = ran_flo[i, 1]\n",
      "    pointer.append() # this appends the data and moves the pointer one row forward\n",
      "tab.flush() # commit the change!"
     ],
     "language": "python",
     "metadata": {},
     "outputs": [
      {
       "output_type": "stream",
       "stream": "stdout",
       "text": [
        "Wall time: 14.4 s\n"
       ]
      }
     ],
     "prompt_number": 33
    },
    {
     "cell_type": "code",
     "collapsed": false,
     "input": [
      "tab"
     ],
     "language": "python",
     "metadata": {},
     "outputs": [
      {
       "metadata": {},
       "output_type": "pyout",
       "prompt_number": 34,
       "text": [
        "/int_floats (Table(4000000,), shuffle, zlib(9)) 'Int&floats'\n",
        "  description := {\n",
        "  \"Date\": StringCol(itemsize=26, shape=(), dflt='', pos=0),\n",
        "  \"No1\": Int32Col(shape=(), dflt=0, pos=1),\n",
        "  \"No2\": Int32Col(shape=(), dflt=0, pos=2),\n",
        "  \"No3\": Float64Col(shape=(), dflt=0.0, pos=3),\n",
        "  \"No4\": Float64Col(shape=(), dflt=0.0, pos=4)}\n",
        "  byteorder := 'little'\n",
        "  chunkshape := (2621,)"
       ]
      }
     ],
     "prompt_number": 34
    },
    {
     "cell_type": "code",
     "collapsed": false,
     "input": [
      "# do same thing with python-style and performance\n",
      "dty = np.dtype([('Date', 'S26'), ('No1', '<i4'), ('No2', '<i4'),('No3', '<f8'), ('No4', '<f8')])\n",
      "sarray = np.zeros(len(ran_int), dtype=dty)"
     ],
     "language": "python",
     "metadata": {},
     "outputs": [],
     "prompt_number": 36
    },
    {
     "cell_type": "code",
     "collapsed": false,
     "input": [
      "%%time\n",
      "sarray['Date'] = dt.datetime.now()\n",
      "sarray['No1'] = ran_int[:, 0]\n",
      "sarray['No2'] = ran_int[:, 1]\n",
      "sarray['No3'] = ran_flo[:, 0]\n",
      "sarray['No4'] = ran_flo[:, 1]\n",
      "h5.remove_node('/','int_floats')\n",
      "tab = h5.create_table('/','int_floats', sarray, title = 'Int&floats', expectedrows=rows, filters=filters)"
     ],
     "language": "python",
     "metadata": {},
     "outputs": [
      {
       "output_type": "stream",
       "stream": "stdout",
       "text": [
        "Wall time: 4.31 s\n"
       ]
      }
     ],
     "prompt_number": 40
    },
    {
     "cell_type": "code",
     "collapsed": false,
     "input": [
      "tab"
     ],
     "language": "python",
     "metadata": {},
     "outputs": [
      {
       "metadata": {},
       "output_type": "pyout",
       "prompt_number": 41,
       "text": [
        "/int_floats (Table(2000000,), shuffle, zlib(9)) 'Int&floats'\n",
        "  description := {\n",
        "  \"Date\": StringCol(itemsize=26, shape=(), dflt='', pos=0),\n",
        "  \"No1\": Int32Col(shape=(), dflt=0, pos=1),\n",
        "  \"No2\": Int32Col(shape=(), dflt=0, pos=2),\n",
        "  \"No3\": Float64Col(shape=(), dflt=0.0, pos=3),\n",
        "  \"No4\": Float64Col(shape=(), dflt=0.0, pos=4)}\n",
        "  byteorder := 'little'\n",
        "  chunkshape := (2621,)"
       ]
      }
     ],
     "prompt_number": 41
    },
    {
     "cell_type": "code",
     "collapsed": false,
     "input": [
      "h5"
     ],
     "language": "python",
     "metadata": {},
     "outputs": [
      {
       "metadata": {},
       "output_type": "pyout",
       "prompt_number": 42,
       "text": [
        "File(filename=pytables.h5, title=u'', mode='w', root_uep='/', filters=Filters(complevel=0, shuffle=False, fletcher32=False, least_significant_digit=None))\n",
        "/ (RootGroup) u''\n",
        "/int_floats (Table(2000000,), shuffle, zlib(9)) 'Int&floats'\n",
        "  description := {\n",
        "  \"Date\": StringCol(itemsize=26, shape=(), dflt='', pos=0),\n",
        "  \"No1\": Int32Col(shape=(), dflt=0, pos=1),\n",
        "  \"No2\": Int32Col(shape=(), dflt=0, pos=2),\n",
        "  \"No3\": Float64Col(shape=(), dflt=0.0, pos=3),\n",
        "  \"No4\": Float64Col(shape=(), dflt=0.0, pos=4)}\n",
        "  byteorder := 'little'\n",
        "  chunkshape := (2621,)"
       ]
      }
     ],
     "prompt_number": 42
    },
    {
     "cell_type": "code",
     "collapsed": false,
     "input": [
      "tab[:3], tab[:4]['No4'], np.sum(tab[:]['No3'])"
     ],
     "language": "python",
     "metadata": {},
     "outputs": [
      {
       "metadata": {},
       "output_type": "pyout",
       "prompt_number": 45,
       "text": [
        "(array([('2015-05-13 23:09:11.661000', 6063, 8134, 2.3525, 0.16525),\n",
        "        ('2015-05-13 23:09:11.661000', 2650, 1412, -0.38126, -0.75675),\n",
        "        ('2015-05-13 23:09:11.661000', 7556, 128, -0.99684, 0.37689)], \n",
        "       dtype=[('Date', 'S26'), ('No1', '<i4'), ('No2', '<i4'), ('No3', '<f8'), ('No4', '<f8')]),\n",
        " array([ 0.16525, -0.75675,  0.37689, -0.50042]),\n",
        " -1046.4065899999998)"
       ]
      }
     ],
     "prompt_number": 45
    },
    {
     "cell_type": "code",
     "collapsed": false,
     "input": [
      "%%time\n",
      "plt.hist(tab[:]['No3'], bins=30); plt.grid(True); print len(tab[:]['No3'])"
     ],
     "language": "python",
     "metadata": {},
     "outputs": [
      {
       "output_type": "stream",
       "stream": "stdout",
       "text": [
        "2000000\n",
        "Wall time: 1.23 s\n"
       ]
      },
      {
       "metadata": {},
       "output_type": "display_data",
       "png": "[encoded data removed]",
       "text": [
        "<matplotlib.figure.Figure at 0x82f8be10>"
       ]
      }
     ],
     "prompt_number": 46
    },
    {
     "cell_type": "heading",
     "level": 1,
     "metadata": {},
     "source": [
      "Out-of-Memory Computation"
     ]
    },
    {
     "cell_type": "code",
     "collapsed": false,
     "input": [
      "# Handle data bigger than memory\n",
      "import numpy as np\n",
      "import tables as tb\n",
      "\n",
      "filename = 'oom.h5'\n",
      "h5 = tb.open_file(filename, 'w')\n",
      "n = 1000\n",
      "ear = h5.createEArray(h5.root, 'ear', atom = tb.Float64Atom(), shape=(0,n)) # Extendable object \n",
      "\n",
      "rand = np.random.standard_normal((n,n))\n",
      "for i in xrange(750):\n",
      "    ear.append(rand)\n",
      "ear.flush()"
     ],
     "language": "python",
     "metadata": {},
     "outputs": [],
     "prompt_number": 2
    },
    {
     "cell_type": "code",
     "collapsed": false,
     "input": [
      "ear"
     ],
     "language": "python",
     "metadata": {},
     "outputs": [
      {
       "metadata": {},
       "output_type": "pyout",
       "prompt_number": 3,
       "text": [
        "/ear (EArray(750000, 1000)) ''\n",
        "  atom := Float64Atom(shape=(), dflt=0.0)\n",
        "  maindim := 0\n",
        "  flavor := 'numpy'\n",
        "  byteorder := 'little'\n",
        "  chunkshape := (8, 1000)"
       ]
      }
     ],
     "prompt_number": 3
    },
    {
     "cell_type": "code",
     "collapsed": false,
     "input": [
      "ear.size_on_disk"
     ],
     "language": "python",
     "metadata": {},
     "outputs": [
      {
       "metadata": {},
       "output_type": "pyout",
       "prompt_number": 4,
       "text": [
        "6000000000L"
       ]
      }
     ],
     "prompt_number": 4
    },
    {
     "cell_type": "code",
     "collapsed": false,
     "input": [
      "out = h5.createEArray(h5.root, 'out', atom=tb.Float64Atom(), shape=(0,n))\n",
      "expr = tb.Expr(' 3 * sin(ear) + sqrt(abs(ear)) ')\n",
      "expr.setOutput(out, append_mode = True)\n",
      "expr.eval()"
     ],
     "language": "python",
     "metadata": {},
     "outputs": [
      {
       "ename": "NameError",
       "evalue": "name 'h5' is not defined",
       "output_type": "pyerr",
       "traceback": [
        "\u001b[1;31m---------------------------------------------------------------------------\u001b[0m\n\u001b[1;31mNameError\u001b[0m                                 Traceback (most recent call last)",
        "\u001b[1;32m<ipython-input-1-f93855c12094>\u001b[0m in \u001b[0;36m<module>\u001b[1;34m()\u001b[0m\n\u001b[1;32m----> 1\u001b[1;33m \u001b[0mout\u001b[0m \u001b[1;33m=\u001b[0m \u001b[0mh5\u001b[0m\u001b[1;33m.\u001b[0m\u001b[0mcreateEArray\u001b[0m\u001b[1;33m(\u001b[0m\u001b[0mh5\u001b[0m\u001b[1;33m.\u001b[0m\u001b[0mroot\u001b[0m\u001b[1;33m,\u001b[0m \u001b[1;34m'out'\u001b[0m\u001b[1;33m,\u001b[0m \u001b[0matom\u001b[0m\u001b[1;33m=\u001b[0m\u001b[0mtb\u001b[0m\u001b[1;33m.\u001b[0m\u001b[0mFloat64Atom\u001b[0m\u001b[1;33m(\u001b[0m\u001b[1;33m)\u001b[0m\u001b[1;33m,\u001b[0m \u001b[0mshape\u001b[0m\u001b[1;33m=\u001b[0m\u001b[1;33m(\u001b[0m\u001b[1;36m0\u001b[0m\u001b[1;33m,\u001b[0m\u001b[0mn\u001b[0m\u001b[1;33m)\u001b[0m\u001b[1;33m)\u001b[0m\u001b[1;33m\u001b[0m\u001b[0m\n\u001b[0m\u001b[0;32m      2\u001b[0m \u001b[0mexpr\u001b[0m \u001b[1;33m=\u001b[0m \u001b[0mtb\u001b[0m\u001b[1;33m.\u001b[0m\u001b[0mExpr\u001b[0m\u001b[1;33m(\u001b[0m\u001b[1;34m' 3 * sin(ear) + sqrt(abs(ear)) '\u001b[0m\u001b[1;33m)\u001b[0m\u001b[1;33m\u001b[0m\u001b[0m\n\u001b[0;32m      3\u001b[0m \u001b[0mexpr\u001b[0m\u001b[1;33m.\u001b[0m\u001b[0msetOutput\u001b[0m\u001b[1;33m(\u001b[0m\u001b[0mout\u001b[0m\u001b[1;33m,\u001b[0m \u001b[0mappend_mode\u001b[0m \u001b[1;33m=\u001b[0m \u001b[0mTrue\u001b[0m\u001b[1;33m)\u001b[0m\u001b[1;33m\u001b[0m\u001b[0m\n\u001b[0;32m      4\u001b[0m \u001b[0mexpr\u001b[0m\u001b[1;33m.\u001b[0m\u001b[0meval\u001b[0m\u001b[1;33m(\u001b[0m\u001b[1;33m)\u001b[0m\u001b[1;33m\u001b[0m\u001b[0m\n",
        "\u001b[1;31mNameError\u001b[0m: name 'h5' is not defined"
       ]
      }
     ],
     "prompt_number": 1
    },
    {
     "cell_type": "code",
     "collapsed": false,
     "input": [],
     "language": "python",
     "metadata": {},
     "outputs": []
    }
   ],
   "metadata": {}
  }
 ]
}
