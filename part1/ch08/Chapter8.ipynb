{
 "metadata": {
  "name": "",
  "signature": "sha256:b6ebe721c2d4e9016a48da0eb7e2897dc5d259bb05ec654993f122d5fbfeb468"
 },
 "nbformat": 3,
 "nbformat_minor": 0,
 "worksheets": [
  {
   "cells": [
    {
     "cell_type": "heading",
     "level": 4,
     "metadata": {},
     "source": [
      "Performance Python\n",
      "    - \ud30c\uc774\uc36c\uc740 \uc778\ud130\ud504\ub9ac\ud130 \uc5b8\uc5b4\n",
      "    - \ud30c\uc774\uc36c\uc73c\ub85c \ucd5c\ub300\ud55c \ube60\ub974\uac8c \uae08\uc735 \uc5f0\uc0b0\uc744 \ucc98\ub9ac\ud558\ub294 \ubc29\ubc95\uc740?\n",
      "    \n",
      "Python Paradigm - \ub3d9\uc77c\ud55c task\ub97c \ucc98\ub9ac\ud558\ub294 \uc5ec\ub7ec\uac00\uc9c0 \"\uae30\ubc95\"\n",
      "    - loop vs iterator / single-threaded vs multi-threaded\n",
      "    - memory layout\n",
      "    \n",
      "Libraries\n",
      "    use python libraries with performance-aware/optimized algorithms/implementation\n",
      "Compiling\n",
      "    compile python code and execute, not interpret\n",
      "    CPython, PyPy\n",
      "Parallelization\n",
      "    numexpr - library with built-in parallelization capabilities  \n",
      "    threading.Thread, multiprocessing.Process - python built-in parallelization capabilities\n",
      "    IPython.parallel\n",
      "    NumbaPro"
     ]
    },
    {
     "cell_type": "code",
     "collapsed": false,
     "input": [
      "def perf_comp_data(func_list, data_list, rep=3, number=1):\n",
      "    from timeit import repeat\n",
      "    res_list = {}\n",
      "    for name in enumerate(func_list):\n",
      "        stmt = name[1] + '(' + data_list[name[0]] + ')'\n",
      "        setup = \"from __main__ import \" + name[1] + ', ' + data_list[name[0]]\n",
      "        results = repeat(stmt=stmt, setup=setup,repeat=rep, number=number)\n",
      "        res_list[name[1]] = sum(results) / rep\n",
      "    res_sort = sorted(res_list.iteritems(), key=lambda (k, v): (v, k))\n",
      "    for item in res_sort:\n",
      "        rel = item[1] / res_sort[0][1]\n",
      "        print 'function: ' + item[0] + ', av. time sec: %9.5f, ' % item[1] + 'relative: %6.1f' % rel"
     ],
     "language": "python",
     "metadata": {},
     "outputs": [],
     "prompt_number": 1
    },
    {
     "cell_type": "code",
     "collapsed": false,
     "input": [
      "# loop vs iterator / single-threaded vs multi-threaded\n",
      "from math import *\n",
      "import numpy as np\n",
      "import numexpr as ne\n",
      "\n",
      "def f(x):\n",
      "    return abs(cos(x)) ** 0.5 + sin(2+3*x)\n",
      "def f1(a): # typical loop\n",
      "    res = []\n",
      "    for x in a:\n",
      "        res.append(f(x))\n",
      "    return res\n",
      "def f2(a):\n",
      "    return [f(x) for x in a] # list-comprehension\n",
      "def f3(a): # function == data object\n",
      "    ex = 'abs(cos(x)) ** 0.5 + sin(2 + 3 * x)'\n",
      "    return [eval(ex) for x in a]\n",
      "def f4(a): # numpy\n",
      "    return (np.abs(np.cos(a)) ** 0.5 + np.sin(2+3*a))\n",
      "def f5(a): # parallel 1\n",
      "    ex = 'abs(cos(a)) ** 0.5 + sin(2 + 3 * a)'\n",
      "    ne.set_num_threads(1)\n",
      "    return ne.evaluate(ex)\n",
      "def f6(a): # parallel 16\n",
      "    ex = 'abs(cos(a)) ** 0.5 + sin(2 + 3 * a)'\n",
      "    ne.set_num_threads(16) # depend on # of cores\n",
      "    return ne.evaluate(ex)\n",
      "# all return same result\n",
      "\n",
      "I = 500000\n",
      "a_py = range(I) # python3 range == xrange\n",
      "a_np = np.arange(I)\n",
      "perf_comp_data(['f1', 'f2', 'f3', 'f4', 'f5', 'f6'],['a_py', 'a_py', 'a_py', 'a_np', 'a_np', 'a_np'])"
     ],
     "language": "python",
     "metadata": {},
     "outputs": [
      {
       "output_type": "stream",
       "stream": "stdout",
       "text": [
        "function: f6, av. time sec:   0.02090, relative:    1.0\n",
        "function: f4, av. time sec:   0.04210, relative:    2.0\n",
        "function: f5, av. time sec:   0.04597, relative:    2.2\n",
        "function: f2, av. time sec:   0.36222, relative:   17.3\n",
        "function: f1, av. time sec:   0.39901, relative:   19.1\n",
        "function: f3, av. time sec:  10.62231, relative:  508.3\n"
       ]
      }
     ],
     "prompt_number": 10
    },
    {
     "cell_type": "code",
     "collapsed": false,
     "input": [
      "# Memory layout : comment of Author is not correct!\n",
      "import numpy as np\n",
      "x = np.random.standard_normal((3, 1500000)) # Create with row-wise data storage\n",
      "C = np.array(x, order='C') # C-style(row-wise data access) \n",
      "F = np.array(x, order='F') # Fortran-style(column-wise data access)\n",
      "x.flags['F_CONTIGUOUS']"
     ],
     "language": "python",
     "metadata": {},
     "outputs": [
      {
       "metadata": {},
       "output_type": "pyout",
       "prompt_number": 23,
       "text": [
        "False"
       ]
      }
     ],
     "prompt_number": 23
    },
    {
     "cell_type": "code",
     "collapsed": false,
     "input": [
      "%timeit C.sum(axis=0)\n",
      "%timeit C.sum(axis=1)\n",
      "%timeit F.sum(axis=0)\n",
      "%timeit F.sum(axis=1)"
     ],
     "language": "python",
     "metadata": {},
     "outputs": [
      {
       "output_type": "stream",
       "stream": "stdout",
       "text": [
        "100 loops, best of 3: 10.4 ms per loop\n",
        "100 loops, best of 3: 5.22 ms per loop"
       ]
      },
      {
       "output_type": "stream",
       "stream": "stdout",
       "text": [
        "\n",
        "10 loops, best of 3: 24.3 ms per loop"
       ]
      },
      {
       "output_type": "stream",
       "stream": "stdout",
       "text": [
        "\n",
        "10 loops, best of 3: 30.2 ms per loop"
       ]
      },
      {
       "output_type": "stream",
       "stream": "stdout",
       "text": [
        "\n"
       ]
      }
     ],
     "prompt_number": 25
    },
    {
     "cell_type": "code",
     "collapsed": false,
     "input": [
      "y = np.transpose(x) # Transpose row-wise data store to column-wise data store\n",
      "yC = np.array(y, order='C') # C-style(row-wise data access) \n",
      "yF = np.array(y, order='F') # Fortran-style(column-wise data access)\n",
      "y.flags['F_CONTIGUOUS']"
     ],
     "language": "python",
     "metadata": {},
     "outputs": [
      {
       "metadata": {},
       "output_type": "pyout",
       "prompt_number": 32,
       "text": [
        "True"
       ]
      }
     ],
     "prompt_number": 32
    },
    {
     "cell_type": "code",
     "collapsed": false,
     "input": [
      "%timeit yC.sum(axis=0)\n",
      "%timeit yC.sum(axis=1)\n",
      "%timeit yF.sum(axis=0)\n",
      "%timeit yF.sum(axis=1)"
     ],
     "language": "python",
     "metadata": {},
     "outputs": [
      {
       "output_type": "stream",
       "stream": "stdout",
       "text": [
        "10 loops, best of 3: 30.1 ms per loop\n",
        "10 loops, best of 3: 24.7 ms per loop"
       ]
      },
      {
       "output_type": "stream",
       "stream": "stdout",
       "text": [
        "\n",
        "100 loops, best of 3: 5.25 ms per loop"
       ]
      },
      {
       "output_type": "stream",
       "stream": "stdout",
       "text": [
        "\n",
        "100 loops, best of 3: 10.4 ms per loop"
       ]
      },
      {
       "output_type": "stream",
       "stream": "stdout",
       "text": [
        "\n"
       ]
      }
     ],
     "prompt_number": 33
    },
    {
     "cell_type": "code",
     "collapsed": false,
     "input": [
      "# Parallel Computing - IPython.parallel / multiprocessing / threading\n",
      "import numpy as np\n",
      "def bsm_mcs_valuation(strike):\n",
      "    import numpy as np\n",
      "    S0 = 100.; T = 1.0; r = 0.05; vola = 0.2\n",
      "    M = 50; I = 20000\n",
      "    dt = T / M\n",
      "    rand = np.random.standard_normal((M + 1, I))\n",
      "    S = np.zeros((M + 1, I)); S[0] = S0\n",
      "    for t in range(1, M + 1):\n",
      "        S[t] = S[t-1] * np.exp((r - 0.5 * vola ** 2) * dt + vola * np.sqrt(dt) * rand[t])\n",
      "    value = (np.exp(-r * T) * np.sum(np.maximum(S[-1] - strike, 0)) / I)\n",
      "    return value\n",
      "# standard version\n",
      "def seq_value(n):\n",
      "    strikes = np.linspace(80, 120, n)\n",
      "    option_values = []\n",
      "    for strike in strikes:\n",
      "        option_values.append(bsm_mcs_valuation(strike))\n",
      "    return strikes, option_values\n",
      "n = 100\n",
      "%time strikes, option_values_seq = seq_value(n)"
     ],
     "language": "python",
     "metadata": {},
     "outputs": [
      {
       "output_type": "stream",
       "stream": "stdout",
       "text": [
        "Wall time: 5.9 s\n"
       ]
      }
     ],
     "prompt_number": 16
    },
    {
     "cell_type": "code",
     "collapsed": false,
     "input": [
      "# http://ipython.org/ipython-doc/dev/parallel/\n",
      "from IPython.parallel import Client\n",
      "c = Client(profile='default')\n",
      "view = c.load_balanced_view()\n",
      "n= 100\n",
      "def ipar_value(n): # ipython parallel\n",
      "    strikes = np.linspace(80, 120, n)\n",
      "    option_values = []\n",
      "    for strike in strikes:\n",
      "        value = view.apply_async(bsm_mcs_valuation, strike) # async call\n",
      "        option_values.append(value)\n",
      "    c.wait(option_values) # waiting ...\n",
      "    return strikes, option_values\n",
      "%time strikes, option_values_obj = ipar_value(n)\n",
      "option_values_par = []\n",
      "for res in option_values_obj:\n",
      "    option_values_par.append(res.result)"
     ],
     "language": "python",
     "metadata": {},
     "outputs": [
      {
       "output_type": "stream",
       "stream": "stdout",
       "text": [
        "Wall time: 2.93 s\n"
       ]
      }
     ],
     "prompt_number": 5
    },
    {
     "cell_type": "code",
     "collapsed": false,
     "input": [
      "# https://docs.python.org/2/library/multiprocessing.html#using-a-pool-of-workers\n",
      "# multiprocessing does not work in Windows\n",
      "\n",
      "from multiprocessing import Pool, freeze_support\n",
      "import numpy as np\n",
      "\n",
      "n = 100\n",
      "def bsm_mcs_valuation(strike):\n",
      "    import numpy as np\n",
      "    S0 = 100.; T = 1.0; r = 0.05; vola = 0.2\n",
      "    M = 50; I = 20000\n",
      "    dt = T / M\n",
      "    rand = np.random.standard_normal((M + 1, I))\n",
      "    S = np.zeros((M + 1, I)); S[0] = S0\n",
      "    for t in range(1, M + 1):\n",
      "        S[t] = S[t-1] * np.exp((r - 0.5 * vola ** 2) * dt + vola * np.sqrt(dt) * rand[t])\n",
      "    value = (np.exp(-r * T) * np.sum(np.maximum(S[-1] - strike, 0)) / I)\n",
      "    return value\n",
      "\n",
      "def mpar_value(n): # multiprocessing.Pool\n",
      "    strikes = np.linspace(80, 120, n).tolist()\n",
      "    option_values = []\n",
      "    pool = Pool(processes=4)\n",
      "    values = pool.map(bsm_mcs_valuation, strikes)\n",
      "    return strikes, values\n",
      "\n",
      "%time strikes, option_values_obj = mpar_value(n)\n"
     ],
     "language": "python",
     "metadata": {},
     "outputs": []
    },
    {
     "cell_type": "code",
     "collapsed": false,
     "input": [
      "import matplotlib.pyplot as plt\n",
      "%matplotlib inline\n",
      "plt.figure(figsize=(8, 4))\n",
      "plt.plot(strikes, option_values_seq, 'b', label='Seq')\n",
      "plt.plot(strikes, option_values_par, 'r.', label='Par')\n",
      "plt.grid(True); plt.legend(loc=0)\n",
      "plt.xlabel('strikes')\n",
      "plt.ylabel('European call option values')"
     ],
     "language": "python",
     "metadata": {},
     "outputs": []
    },
    {
     "cell_type": "code",
     "collapsed": false,
     "input": [
      "import multiprocessing as mp\n",
      "import numpy as np\n",
      "import math\n",
      "def simulate_geometric_brownian_motion(p):\n",
      "    M, I = p\n",
      "    # time steps, paths\n",
      "    S0 = 100; r = 0.05; sigma = 0.2; T = 1.0\n",
      "    # model parameters\n",
      "    dt = T / M\n",
      "    paths = np.zeros((M + 1, I))\n",
      "    paths[0] = S0\n",
      "    for t in range(1, M + 1):\n",
      "        paths[t] = paths[t - 1] * np.exp((r - 0.5 * sigma ** 2) * dt + sigma * math.sqrt(dt) * np.random.standard_normal(I))\n",
      "    return paths\n",
      "paths = simulate_geometric_brownian_motion((5,2))\n",
      "\n",
      "I, M, t = ( 10000, 100, 100)\n",
      "from time import time\n",
      "times = []\n",
      "for w in range(1, 17):\n",
      "    t0 = time()\n",
      "    pool = mp.Pool(processes=w)\n",
      "    # the pool of workers\n",
      "    result = pool.map(simulate_geometric_brownian_motion, t * [(M, I), ])\n",
      "    # the mapping of the function to the list of parameter tuples\n",
      "    times.append(time() - t0)"
     ],
     "language": "python",
     "metadata": {},
     "outputs": []
    },
    {
     "cell_type": "code",
     "collapsed": false,
     "input": [
      "# Binomial Option Pricing - valuation European call option \n",
      "from math import exp, sqrt\n",
      "# model & option parameters\n",
      "S0 = 100. # initial index level\n",
      "T = 1. # call option maturity\n",
      "r = 0.05 # constant short rate\n",
      "vola = 0.20 # constant volatility factor of diffusion\n",
      "# time parameters\n",
      "M = 1000 # time steps\n",
      "dt = T / M # length of time interval\n",
      "df = exp(-r * dt) # discount factor per time interval\n",
      "# binomial parameters\n",
      "u = exp(vola * sqrt(dt)) # up-movement\n",
      "d = 1 / u # down-movement\n",
      "q = (exp(r * dt) - d) / (u - d) # martingale probability\n",
      "import numpy as np\n",
      "def binomial_py(strike):\n",
      "    # Price simulation\n",
      "    S = np.zeros((M + 1, M + 1), dtype=np.float64)\n",
      "    S[0, 0] = S0\n",
      "    z1 = 0\n",
      "    for j in xrange(1, M + 1, 1):\n",
      "        z1 = z1 + 1\n",
      "        for i in xrange(z1 + 1):\n",
      "            S[i, j] = S[0, 0] * (u ** j) * (d ** (i * 2))\n",
      "    # IV calculation\n",
      "    iv = np.zeros((M + 1, M + 1), dtype=np.float64)\n",
      "    z2 = 0\n",
      "    for j in xrange(0, M + 1, 1):\n",
      "        for i in xrange(z2 + 1):\n",
      "            iv[i, j] = max(S[i, j] - strike, 0)\n",
      "        z2 = z2 + 1\n",
      "    # Valuation\n",
      "    pv = np.zeros((M + 1, M + 1), dtype=np.float64)\n",
      "    # present value array\n",
      "    pv[:, M] = iv[:, M] # initialize last time point\n",
      "    z3 = M + 1\n",
      "    for j in xrange(M - 1, -1, -1):\n",
      "        z3 = z3 - 1\n",
      "        for i in xrange(z3):\n",
      "            pv[i, j] = (q * pv[i, j + 1] + (1 - q) * pv[i + 1, j + 1]) * df\n",
      "    return pv[0, 0]\n",
      "%time round(binomial_py(100),3)\n"
     ],
     "language": "python",
     "metadata": {},
     "outputs": [
      {
       "output_type": "stream",
       "stream": "stdout",
       "text": [
        "Wall time: 1.44 s\n"
       ]
      },
      {
       "metadata": {},
       "output_type": "pyout",
       "prompt_number": 22,
       "text": [
        "10.449"
       ]
      }
     ],
     "prompt_number": 22
    },
    {
     "cell_type": "code",
     "collapsed": false,
     "input": [
      "import numpy as np\n",
      "def bsm_mcs_valuation(strike):\n",
      "    import numpy as np\n",
      "    S0 = 100.; T = 1.0; r = 0.05; vola = 0.2\n",
      "    M = 50; I = 20000\n",
      "    dt = T / M\n",
      "    rand = np.random.standard_normal((M + 1, I))\n",
      "    S = np.zeros((M + 1, I)); S[0] = S0\n",
      "    for t in range(1, M + 1):\n",
      "        S[t] = S[t-1] * np.exp((r - 0.5 * vola ** 2) * dt + vola * np.sqrt(dt) * rand[t])\n",
      "    value = (np.exp(-r * T) * np.sum(np.maximum(S[-1] - strike, 0)) / I)\n",
      "    return value\n",
      "%time round(bsm_mcs_valuation(100),3)"
     ],
     "language": "python",
     "metadata": {},
     "outputs": [
      {
       "output_type": "stream",
       "stream": "stdout",
       "text": [
        "Wall time: 69 ms\n"
       ]
      },
      {
       "metadata": {},
       "output_type": "pyout",
       "prompt_number": 23,
       "text": [
        "10.347"
       ]
      }
     ],
     "prompt_number": 23
    },
    {
     "cell_type": "code",
     "collapsed": false,
     "input": [
      "import numpy as np\n",
      "M=1000\n",
      "def binomial_np(strike):\n",
      "    mu = np.arange(M + 1)\n",
      "    mu = np.resize(mu, (M + 1, M + 1))\n",
      "    md = np.transpose(mu)\n",
      "    mu = u ** (mu - md)\n",
      "    md = d ** md\n",
      "    S = S0 * mu * md\n",
      "    pv = np.maximum(S - strike, 0)\n",
      "    z = 0\n",
      "    for t in range(M - 1, -1, -1):\n",
      "        pv[0:M - z, t] = (q * pv[0:M - z, t + 1] + (1-q) * pv[1:M - z + 1, t + 1]) * df\n",
      "        z += 1\n",
      "    return pv[0, 0]\n",
      "\n",
      "%time round(binomial_np(100),3)"
     ],
     "language": "python",
     "metadata": {},
     "outputs": [
      {
       "output_type": "stream",
       "stream": "stdout",
       "text": [
        "Wall time: 231 ms\n"
       ]
      },
      {
       "metadata": {},
       "output_type": "pyout",
       "prompt_number": 26,
       "text": [
        "10.449"
       ]
      }
     ],
     "prompt_number": 26
    },
    {
     "cell_type": "code",
     "collapsed": false,
     "input": [
      "binomial_nb = nb.jit(binomial_py)\n",
      "%time round(binomial_nb(100),3)"
     ],
     "language": "python",
     "metadata": {},
     "outputs": [
      {
       "output_type": "stream",
       "stream": "stdout",
       "text": [
        "Wall time: 874 ms\n"
       ]
      },
      {
       "metadata": {},
       "output_type": "pyout",
       "prompt_number": 28,
       "text": [
        "10.449"
       ]
      }
     ],
     "prompt_number": 28
    },
    {
     "cell_type": "code",
     "collapsed": false,
     "input": [
      "%time round(binomial_nb(100),3)"
     ],
     "language": "python",
     "metadata": {},
     "outputs": [
      {
       "output_type": "stream",
       "stream": "stdout",
       "text": [
        "Wall time: 147 ms\n"
       ]
      },
      {
       "metadata": {},
       "output_type": "pyout",
       "prompt_number": 29,
       "text": [
        "10.449"
       ]
      }
     ],
     "prompt_number": 29
    },
    {
     "cell_type": "code",
     "collapsed": false,
     "input": [
      "# Dynamic Compiling : worth to try!\n",
      "import numba as nb\n",
      "import numpy as np\n",
      "from math import cos, log\n",
      "def f_py(I,J):\n",
      "    res = 0\n",
      "    for i in xrange(I):\n",
      "        for j in xrange(J):\n",
      "            res += int(cos(log(1)))\n",
      "    return res\n",
      "f_nb = nb.jit(f_py)\n",
      "def f_np(I,J):\n",
      "    a = np.ones((I, J), dtype=np.float64)\n",
      "    return int(np.sum(np.cos(np.log(a))))\n",
      "f_npc = nb.jit(f_np)\n",
      "%time f_np(5000, 5000)\n",
      "%time f_npc(5000,5000)\n",
      "%time f_py(5000, 5000)\n",
      "%time f_nb(5000, 5000)"
     ],
     "language": "python",
     "metadata": {},
     "outputs": [
      {
       "output_type": "stream",
       "stream": "stdout",
       "text": [
        "Wall time: 611 ms\n",
        "Wall time: 720 ms"
       ]
      },
      {
       "output_type": "stream",
       "stream": "stdout",
       "text": [
        "\n",
        "Wall time: 10.2 s"
       ]
      },
      {
       "output_type": "stream",
       "stream": "stdout",
       "text": [
        "\n",
        "Wall time: 81 ms"
       ]
      },
      {
       "output_type": "stream",
       "stream": "stdout",
       "text": [
        "\n"
       ]
      },
      {
       "metadata": {},
       "output_type": "pyout",
       "prompt_number": 8,
       "text": [
        "25000000"
       ]
      }
     ],
     "prompt_number": 8
    },
    {
     "cell_type": "code",
     "collapsed": false,
     "input": [
      "# C-Python -- need compiler!\n",
      "import pyximport\n",
      "pyximport.install()\n",
      "from nested_loop import f_cy\n",
      "%time res = f_cy(I,J)"
     ],
     "language": "python",
     "metadata": {},
     "outputs": [
      {
       "ename": "ImportError",
       "evalue": "Building module nested_loop failed: ['DistutilsPlatformError: Unable to find vcvarsall.bat\\n']",
       "output_type": "pyerr",
       "traceback": [
        "\u001b[1;31m---------------------------------------------------------------------------\u001b[0m\n\u001b[1;31mImportError\u001b[0m                               Traceback (most recent call last)",
        "\u001b[1;32m<ipython-input-12-f365164b646c>\u001b[0m in \u001b[0;36m<module>\u001b[1;34m()\u001b[0m\n\u001b[0;32m      2\u001b[0m \u001b[1;32mimport\u001b[0m \u001b[0mpyximport\u001b[0m\u001b[1;33m\u001b[0m\u001b[0m\n\u001b[0;32m      3\u001b[0m \u001b[0mpyximport\u001b[0m\u001b[1;33m.\u001b[0m\u001b[0minstall\u001b[0m\u001b[1;33m(\u001b[0m\u001b[1;33m)\u001b[0m\u001b[1;33m\u001b[0m\u001b[0m\n\u001b[1;32m----> 4\u001b[1;33m \u001b[1;32mfrom\u001b[0m \u001b[0mnested_loop\u001b[0m \u001b[1;32mimport\u001b[0m \u001b[0mf_cy\u001b[0m\u001b[1;33m\u001b[0m\u001b[0m\n\u001b[0m\u001b[0;32m      5\u001b[0m \u001b[0mget_ipython\u001b[0m\u001b[1;33m(\u001b[0m\u001b[1;33m)\u001b[0m\u001b[1;33m.\u001b[0m\u001b[0mmagic\u001b[0m\u001b[1;33m(\u001b[0m\u001b[1;34mu'time res = f_cy(I,J)'\u001b[0m\u001b[1;33m)\u001b[0m\u001b[1;33m\u001b[0m\u001b[0m\n\u001b[0;32m      6\u001b[0m \u001b[1;33m\u001b[0m\u001b[0m\n",
        "\u001b[1;32mC:\\Users\\i071504\\AppData\\Local\\Continuum\\Anaconda\\lib\\site-packages\\pyximport\\pyximport.py\u001b[0m in \u001b[0;36mload_module\u001b[1;34m(self, fullname)\u001b[0m\n\u001b[0;32m    429\u001b[0m                                  \u001b[0mself\u001b[0m\u001b[1;33m.\u001b[0m\u001b[0mpyxbuild_dir\u001b[0m\u001b[1;33m,\u001b[0m\u001b[1;33m\u001b[0m\u001b[0m\n\u001b[0;32m    430\u001b[0m                                  \u001b[0mbuild_inplace\u001b[0m\u001b[1;33m=\u001b[0m\u001b[0mself\u001b[0m\u001b[1;33m.\u001b[0m\u001b[0minplace\u001b[0m\u001b[1;33m,\u001b[0m\u001b[1;33m\u001b[0m\u001b[0m\n\u001b[1;32m--> 431\u001b[1;33m                                  language_level=self.language_level)\n\u001b[0m\u001b[0;32m    432\u001b[0m         \u001b[1;32mreturn\u001b[0m \u001b[0mmodule\u001b[0m\u001b[1;33m\u001b[0m\u001b[0m\n\u001b[0;32m    433\u001b[0m \u001b[1;33m\u001b[0m\u001b[0m\n",
        "\u001b[1;32mC:\\Users\\i071504\\AppData\\Local\\Continuum\\Anaconda\\lib\\site-packages\\pyximport\\pyximport.py\u001b[0m in \u001b[0;36mload_module\u001b[1;34m(name, pyxfilename, pyxbuild_dir, is_package, build_inplace, language_level, so_path)\u001b[0m\n\u001b[0;32m    207\u001b[0m                 \u001b[0mmodule_name\u001b[0m \u001b[1;33m=\u001b[0m \u001b[0mname\u001b[0m\u001b[1;33m\u001b[0m\u001b[0m\n\u001b[0;32m    208\u001b[0m             so_path = build_module(module_name, pyxfilename, pyxbuild_dir,\n\u001b[1;32m--> 209\u001b[1;33m                                    inplace=build_inplace, language_level=language_level)\n\u001b[0m\u001b[0;32m    210\u001b[0m         \u001b[0mmod\u001b[0m \u001b[1;33m=\u001b[0m \u001b[0mimp\u001b[0m\u001b[1;33m.\u001b[0m\u001b[0mload_dynamic\u001b[0m\u001b[1;33m(\u001b[0m\u001b[0mname\u001b[0m\u001b[1;33m,\u001b[0m \u001b[0mso_path\u001b[0m\u001b[1;33m)\u001b[0m\u001b[1;33m\u001b[0m\u001b[0m\n\u001b[0;32m    211\u001b[0m         \u001b[1;32mif\u001b[0m \u001b[0mis_package\u001b[0m \u001b[1;32mand\u001b[0m \u001b[1;32mnot\u001b[0m \u001b[0mhasattr\u001b[0m\u001b[1;33m(\u001b[0m\u001b[0mmod\u001b[0m\u001b[1;33m,\u001b[0m \u001b[1;34m'__path__'\u001b[0m\u001b[1;33m)\u001b[0m\u001b[1;33m:\u001b[0m\u001b[1;33m\u001b[0m\u001b[0m\n",
        "\u001b[1;32mC:\\Users\\i071504\\AppData\\Local\\Continuum\\Anaconda\\lib\\site-packages\\pyximport\\pyximport.py\u001b[0m in \u001b[0;36mbuild_module\u001b[1;34m(name, pyxfilename, pyxbuild_dir, inplace, language_level)\u001b[0m\n\u001b[0;32m    184\u001b[0m                                   \u001b[0msetup_args\u001b[0m\u001b[1;33m=\u001b[0m\u001b[0msargs\u001b[0m\u001b[1;33m,\u001b[0m\u001b[1;33m\u001b[0m\u001b[0m\n\u001b[0;32m    185\u001b[0m                                   \u001b[0minplace\u001b[0m\u001b[1;33m=\u001b[0m\u001b[0minplace\u001b[0m\u001b[1;33m,\u001b[0m\u001b[1;33m\u001b[0m\u001b[0m\n\u001b[1;32m--> 186\u001b[1;33m                                   reload_support=pyxargs.reload_support)\n\u001b[0m\u001b[0;32m    187\u001b[0m     \u001b[1;32massert\u001b[0m \u001b[0mos\u001b[0m\u001b[1;33m.\u001b[0m\u001b[0mpath\u001b[0m\u001b[1;33m.\u001b[0m\u001b[0mexists\u001b[0m\u001b[1;33m(\u001b[0m\u001b[0mso_path\u001b[0m\u001b[1;33m)\u001b[0m\u001b[1;33m,\u001b[0m \u001b[1;34m\"Cannot find: %s\"\u001b[0m \u001b[1;33m%\u001b[0m \u001b[0mso_path\u001b[0m\u001b[1;33m\u001b[0m\u001b[0m\n\u001b[0;32m    188\u001b[0m \u001b[1;33m\u001b[0m\u001b[0m\n",
        "\u001b[1;32mC:\\Users\\i071504\\AppData\\Local\\Continuum\\Anaconda\\lib\\site-packages\\pyximport\\pyxbuild.py\u001b[0m in \u001b[0;36mpyx_to_dll\u001b[1;34m(filename, ext, force_rebuild, build_in_temp, pyxbuild_dir, setup_args, reload_support, inplace)\u001b[0m\n\u001b[0;32m     96\u001b[0m     \u001b[1;32mtry\u001b[0m\u001b[1;33m:\u001b[0m\u001b[1;33m\u001b[0m\u001b[0m\n\u001b[0;32m     97\u001b[0m         \u001b[0mobj_build_ext\u001b[0m \u001b[1;33m=\u001b[0m \u001b[0mdist\u001b[0m\u001b[1;33m.\u001b[0m\u001b[0mget_command_obj\u001b[0m\u001b[1;33m(\u001b[0m\u001b[1;34m\"build_ext\"\u001b[0m\u001b[1;33m)\u001b[0m\u001b[1;33m\u001b[0m\u001b[0m\n\u001b[1;32m---> 98\u001b[1;33m         \u001b[0mdist\u001b[0m\u001b[1;33m.\u001b[0m\u001b[0mrun_commands\u001b[0m\u001b[1;33m(\u001b[0m\u001b[1;33m)\u001b[0m\u001b[1;33m\u001b[0m\u001b[0m\n\u001b[0m\u001b[0;32m     99\u001b[0m         \u001b[0mso_path\u001b[0m \u001b[1;33m=\u001b[0m \u001b[0mobj_build_ext\u001b[0m\u001b[1;33m.\u001b[0m\u001b[0mget_outputs\u001b[0m\u001b[1;33m(\u001b[0m\u001b[1;33m)\u001b[0m\u001b[1;33m[\u001b[0m\u001b[1;36m0\u001b[0m\u001b[1;33m]\u001b[0m\u001b[1;33m\u001b[0m\u001b[0m\n\u001b[0;32m    100\u001b[0m         \u001b[1;32mif\u001b[0m \u001b[0mobj_build_ext\u001b[0m\u001b[1;33m.\u001b[0m\u001b[0minplace\u001b[0m\u001b[1;33m:\u001b[0m\u001b[1;33m\u001b[0m\u001b[0m\n",
        "\u001b[1;32mC:\\Users\\i071504\\AppData\\Local\\Continuum\\Anaconda\\lib\\distutils\\dist.py\u001b[0m in \u001b[0;36mrun_commands\u001b[1;34m(self)\u001b[0m\n\u001b[0;32m    951\u001b[0m         \"\"\"\n\u001b[0;32m    952\u001b[0m         \u001b[1;32mfor\u001b[0m \u001b[0mcmd\u001b[0m \u001b[1;32min\u001b[0m \u001b[0mself\u001b[0m\u001b[1;33m.\u001b[0m\u001b[0mcommands\u001b[0m\u001b[1;33m:\u001b[0m\u001b[1;33m\u001b[0m\u001b[0m\n\u001b[1;32m--> 953\u001b[1;33m             \u001b[0mself\u001b[0m\u001b[1;33m.\u001b[0m\u001b[0mrun_command\u001b[0m\u001b[1;33m(\u001b[0m\u001b[0mcmd\u001b[0m\u001b[1;33m)\u001b[0m\u001b[1;33m\u001b[0m\u001b[0m\n\u001b[0m\u001b[0;32m    954\u001b[0m \u001b[1;33m\u001b[0m\u001b[0m\n\u001b[0;32m    955\u001b[0m     \u001b[1;31m# -- Methods that operate on its Commands --------------------------\u001b[0m\u001b[1;33m\u001b[0m\u001b[1;33m\u001b[0m\u001b[0m\n",
        "\u001b[1;32mC:\\Users\\i071504\\AppData\\Local\\Continuum\\Anaconda\\lib\\distutils\\dist.py\u001b[0m in \u001b[0;36mrun_command\u001b[1;34m(self, command)\u001b[0m\n\u001b[0;32m    970\u001b[0m         \u001b[0mcmd_obj\u001b[0m \u001b[1;33m=\u001b[0m \u001b[0mself\u001b[0m\u001b[1;33m.\u001b[0m\u001b[0mget_command_obj\u001b[0m\u001b[1;33m(\u001b[0m\u001b[0mcommand\u001b[0m\u001b[1;33m)\u001b[0m\u001b[1;33m\u001b[0m\u001b[0m\n\u001b[0;32m    971\u001b[0m         \u001b[0mcmd_obj\u001b[0m\u001b[1;33m.\u001b[0m\u001b[0mensure_finalized\u001b[0m\u001b[1;33m(\u001b[0m\u001b[1;33m)\u001b[0m\u001b[1;33m\u001b[0m\u001b[0m\n\u001b[1;32m--> 972\u001b[1;33m         \u001b[0mcmd_obj\u001b[0m\u001b[1;33m.\u001b[0m\u001b[0mrun\u001b[0m\u001b[1;33m(\u001b[0m\u001b[1;33m)\u001b[0m\u001b[1;33m\u001b[0m\u001b[0m\n\u001b[0m\u001b[0;32m    973\u001b[0m         \u001b[0mself\u001b[0m\u001b[1;33m.\u001b[0m\u001b[0mhave_run\u001b[0m\u001b[1;33m[\u001b[0m\u001b[0mcommand\u001b[0m\u001b[1;33m]\u001b[0m \u001b[1;33m=\u001b[0m \u001b[1;36m1\u001b[0m\u001b[1;33m\u001b[0m\u001b[0m\n\u001b[0;32m    974\u001b[0m \u001b[1;33m\u001b[0m\u001b[0m\n",
        "\u001b[1;32mC:\\Users\\i071504\\AppData\\Local\\Continuum\\Anaconda\\lib\\site-packages\\Cython\\Distutils\\build_ext.py\u001b[0m in \u001b[0;36mrun\u001b[1;34m(self)\u001b[0m\n\u001b[0;32m    161\u001b[0m             \u001b[0moptimization\u001b[0m\u001b[1;33m.\u001b[0m\u001b[0mdisable_optimization\u001b[0m\u001b[1;33m(\u001b[0m\u001b[1;33m)\u001b[0m\u001b[1;33m\u001b[0m\u001b[0m\n\u001b[0;32m    162\u001b[0m \u001b[1;33m\u001b[0m\u001b[0m\n\u001b[1;32m--> 163\u001b[1;33m         \u001b[0m_build_ext\u001b[0m\u001b[1;33m.\u001b[0m\u001b[0mbuild_ext\u001b[0m\u001b[1;33m.\u001b[0m\u001b[0mrun\u001b[0m\u001b[1;33m(\u001b[0m\u001b[0mself\u001b[0m\u001b[1;33m)\u001b[0m\u001b[1;33m\u001b[0m\u001b[0m\n\u001b[0m\u001b[0;32m    164\u001b[0m \u001b[1;33m\u001b[0m\u001b[0m\n\u001b[0;32m    165\u001b[0m     \u001b[1;32mdef\u001b[0m \u001b[0mbuild_extensions\u001b[0m\u001b[1;33m(\u001b[0m\u001b[0mself\u001b[0m\u001b[1;33m)\u001b[0m\u001b[1;33m:\u001b[0m\u001b[1;33m\u001b[0m\u001b[0m\n",
        "\u001b[1;32mC:\\Users\\i071504\\AppData\\Local\\Continuum\\Anaconda\\lib\\distutils\\command\\build_ext.py\u001b[0m in \u001b[0;36mrun\u001b[1;34m(self)\u001b[0m\n\u001b[0;32m    335\u001b[0m \u001b[1;33m\u001b[0m\u001b[0m\n\u001b[0;32m    336\u001b[0m         \u001b[1;31m# Now actually compile and link everything.\u001b[0m\u001b[1;33m\u001b[0m\u001b[1;33m\u001b[0m\u001b[0m\n\u001b[1;32m--> 337\u001b[1;33m         \u001b[0mself\u001b[0m\u001b[1;33m.\u001b[0m\u001b[0mbuild_extensions\u001b[0m\u001b[1;33m(\u001b[0m\u001b[1;33m)\u001b[0m\u001b[1;33m\u001b[0m\u001b[0m\n\u001b[0m\u001b[0;32m    338\u001b[0m \u001b[1;33m\u001b[0m\u001b[0m\n\u001b[0;32m    339\u001b[0m     \u001b[1;32mdef\u001b[0m \u001b[0mcheck_extensions_list\u001b[0m\u001b[1;33m(\u001b[0m\u001b[0mself\u001b[0m\u001b[1;33m,\u001b[0m \u001b[0mextensions\u001b[0m\u001b[1;33m)\u001b[0m\u001b[1;33m:\u001b[0m\u001b[1;33m\u001b[0m\u001b[0m\n",
        "\u001b[1;32mC:\\Users\\i071504\\AppData\\Local\\Continuum\\Anaconda\\lib\\site-packages\\Cython\\Distutils\\build_ext.py\u001b[0m in \u001b[0;36mbuild_extensions\u001b[1;34m(self)\u001b[0m\n\u001b[0;32m    169\u001b[0m         \u001b[1;32mfor\u001b[0m \u001b[0mext\u001b[0m \u001b[1;32min\u001b[0m \u001b[0mself\u001b[0m\u001b[1;33m.\u001b[0m\u001b[0mextensions\u001b[0m\u001b[1;33m:\u001b[0m\u001b[1;33m\u001b[0m\u001b[0m\n\u001b[0;32m    170\u001b[0m             \u001b[0mext\u001b[0m\u001b[1;33m.\u001b[0m\u001b[0msources\u001b[0m \u001b[1;33m=\u001b[0m \u001b[0mself\u001b[0m\u001b[1;33m.\u001b[0m\u001b[0mcython_sources\u001b[0m\u001b[1;33m(\u001b[0m\u001b[0mext\u001b[0m\u001b[1;33m.\u001b[0m\u001b[0msources\u001b[0m\u001b[1;33m,\u001b[0m \u001b[0mext\u001b[0m\u001b[1;33m)\u001b[0m\u001b[1;33m\u001b[0m\u001b[0m\n\u001b[1;32m--> 171\u001b[1;33m             \u001b[0mself\u001b[0m\u001b[1;33m.\u001b[0m\u001b[0mbuild_extension\u001b[0m\u001b[1;33m(\u001b[0m\u001b[0mext\u001b[0m\u001b[1;33m)\u001b[0m\u001b[1;33m\u001b[0m\u001b[0m\n\u001b[0m\u001b[0;32m    172\u001b[0m \u001b[1;33m\u001b[0m\u001b[0m\n\u001b[0;32m    173\u001b[0m     \u001b[1;32mdef\u001b[0m \u001b[0mcython_sources\u001b[0m\u001b[1;33m(\u001b[0m\u001b[0mself\u001b[0m\u001b[1;33m,\u001b[0m \u001b[0msources\u001b[0m\u001b[1;33m,\u001b[0m \u001b[0mextension\u001b[0m\u001b[1;33m)\u001b[0m\u001b[1;33m:\u001b[0m\u001b[1;33m\u001b[0m\u001b[0m\n",
        "\u001b[1;32mC:\\Users\\i071504\\AppData\\Local\\Continuum\\Anaconda\\lib\\distutils\\command\\build_ext.py\u001b[0m in \u001b[0;36mbuild_extension\u001b[1;34m(self, ext)\u001b[0m\n\u001b[0;32m    494\u001b[0m                                          \u001b[0mdebug\u001b[0m\u001b[1;33m=\u001b[0m\u001b[0mself\u001b[0m\u001b[1;33m.\u001b[0m\u001b[0mdebug\u001b[0m\u001b[1;33m,\u001b[0m\u001b[1;33m\u001b[0m\u001b[0m\n\u001b[0;32m    495\u001b[0m                                          \u001b[0mextra_postargs\u001b[0m\u001b[1;33m=\u001b[0m\u001b[0mextra_args\u001b[0m\u001b[1;33m,\u001b[0m\u001b[1;33m\u001b[0m\u001b[0m\n\u001b[1;32m--> 496\u001b[1;33m                                          depends=ext.depends)\n\u001b[0m\u001b[0;32m    497\u001b[0m \u001b[1;33m\u001b[0m\u001b[0m\n\u001b[0;32m    498\u001b[0m         \u001b[1;31m# XXX -- this is a Vile HACK!\u001b[0m\u001b[1;33m\u001b[0m\u001b[1;33m\u001b[0m\u001b[0m\n",
        "\u001b[1;32mC:\\Users\\i071504\\AppData\\Local\\Continuum\\Anaconda\\lib\\distutils\\msvc9compiler.py\u001b[0m in \u001b[0;36mcompile\u001b[1;34m(self, sources, output_dir, macros, include_dirs, debug, extra_preargs, extra_postargs, depends)\u001b[0m\n\u001b[0;32m    471\u001b[0m \u001b[1;33m\u001b[0m\u001b[0m\n\u001b[0;32m    472\u001b[0m         \u001b[1;32mif\u001b[0m \u001b[1;32mnot\u001b[0m \u001b[0mself\u001b[0m\u001b[1;33m.\u001b[0m\u001b[0minitialized\u001b[0m\u001b[1;33m:\u001b[0m\u001b[1;33m\u001b[0m\u001b[0m\n\u001b[1;32m--> 473\u001b[1;33m             \u001b[0mself\u001b[0m\u001b[1;33m.\u001b[0m\u001b[0minitialize\u001b[0m\u001b[1;33m(\u001b[0m\u001b[1;33m)\u001b[0m\u001b[1;33m\u001b[0m\u001b[0m\n\u001b[0m\u001b[0;32m    474\u001b[0m         compile_info = self._setup_compile(output_dir, macros, include_dirs,\n\u001b[0;32m    475\u001b[0m                                            sources, depends, extra_postargs)\n",
        "\u001b[1;32mC:\\Users\\i071504\\AppData\\Local\\Continuum\\Anaconda\\lib\\distutils\\msvc9compiler.py\u001b[0m in \u001b[0;36minitialize\u001b[1;34m(self, plat_name)\u001b[0m\n\u001b[0;32m    381\u001b[0m                             \u001b[0mPLAT_TO_VCVARS\u001b[0m\u001b[1;33m[\u001b[0m\u001b[0mplat_name\u001b[0m\u001b[1;33m]\u001b[0m\u001b[1;33m\u001b[0m\u001b[0m\n\u001b[0;32m    382\u001b[0m \u001b[1;33m\u001b[0m\u001b[0m\n\u001b[1;32m--> 383\u001b[1;33m             \u001b[0mvc_env\u001b[0m \u001b[1;33m=\u001b[0m \u001b[0mquery_vcvarsall\u001b[0m\u001b[1;33m(\u001b[0m\u001b[0mVERSION\u001b[0m\u001b[1;33m,\u001b[0m \u001b[0mplat_spec\u001b[0m\u001b[1;33m)\u001b[0m\u001b[1;33m\u001b[0m\u001b[0m\n\u001b[0m\u001b[0;32m    384\u001b[0m \u001b[1;33m\u001b[0m\u001b[0m\n\u001b[0;32m    385\u001b[0m             \u001b[1;31m# take care to only use strings in the environment.\u001b[0m\u001b[1;33m\u001b[0m\u001b[1;33m\u001b[0m\u001b[0m\n",
        "\u001b[1;32mC:\\Users\\i071504\\AppData\\Local\\Continuum\\Anaconda\\lib\\distutils\\msvc9compiler.py\u001b[0m in \u001b[0;36mquery_vcvarsall\u001b[1;34m(version, arch)\u001b[0m\n\u001b[0;32m    269\u001b[0m \u001b[1;33m\u001b[0m\u001b[0m\n\u001b[0;32m    270\u001b[0m     \u001b[1;32mif\u001b[0m \u001b[0mvcvarsall\u001b[0m \u001b[1;32mis\u001b[0m \u001b[0mNone\u001b[0m\u001b[1;33m:\u001b[0m\u001b[1;33m\u001b[0m\u001b[0m\n\u001b[1;32m--> 271\u001b[1;33m         \u001b[1;32mraise\u001b[0m \u001b[0mDistutilsPlatformError\u001b[0m\u001b[1;33m(\u001b[0m\u001b[1;34m\"Unable to find vcvarsall.bat\"\u001b[0m\u001b[1;33m)\u001b[0m\u001b[1;33m\u001b[0m\u001b[0m\n\u001b[0m\u001b[0;32m    272\u001b[0m     \u001b[0mlog\u001b[0m\u001b[1;33m.\u001b[0m\u001b[0mdebug\u001b[0m\u001b[1;33m(\u001b[0m\u001b[1;34m\"Calling 'vcvarsall.bat %s' (version=%s)\"\u001b[0m\u001b[1;33m,\u001b[0m \u001b[0march\u001b[0m\u001b[1;33m,\u001b[0m \u001b[0mversion\u001b[0m\u001b[1;33m)\u001b[0m\u001b[1;33m\u001b[0m\u001b[0m\n\u001b[0;32m    273\u001b[0m     popen = subprocess.Popen('\"%s\" %s & set' % (vcvarsall, arch),\n",
        "\u001b[1;31mImportError\u001b[0m: Building module nested_loop failed: ['DistutilsPlatformError: Unable to find vcvarsall.bat\\n']"
       ]
      }
     ],
     "prompt_number": 12
    },
    {
     "cell_type": "code",
     "collapsed": false,
     "input": [
      "# Generation of Random number of GPU - not work...\n",
      "# Have to consider \"overhead of using GPU\" vs \"gains from parallelization using GPU\""
     ],
     "language": "python",
     "metadata": {},
     "outputs": []
    }
   ],
   "metadata": {}
  }
 ]
}
